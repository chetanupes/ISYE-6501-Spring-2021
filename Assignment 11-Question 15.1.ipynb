{
 "cells": [
  {
   "cell_type": "markdown",
   "id": "compact-ocean",
   "metadata": {},
   "source": [
    "# Question 15.1\n",
    "\n",
    "In the videos, we saw the “diet problem”. (The diet problem is one of the first large-scale optimization\n",
    "problems to be studied in practice. Back in the 1930’s and 40’s, the Army wanted to meet the nutritional\n",
    "requirements of its soldiers while minimizing the cost.) In this homework you get to solve a diet problem with real data. The data is given in the file diet.xls. \n",
    "\n",
    "1. Formulate an optimization model (a linear program) to find the cheapest diet that satisfies the maximum and minimum daily nutrition constraints, and solve it using PuLP.  Turn in your code and the solution. (The optimal solution should be a diet of air-popped popcorn, poached eggs, oranges, raw iceberg lettuce, raw celery, and frozen broccoli. UGH!)\n"
   ]
  },
  {
   "cell_type": "code",
   "execution_count": 3,
   "id": "assumed-float",
   "metadata": {},
   "outputs": [],
   "source": [
    "#Importing necesary libraries\n",
    "from pulp import *\n",
    "import pandas as pd"
   ]
  },
  {
   "cell_type": "code",
   "execution_count": 4,
   "id": "supposed-attention",
   "metadata": {},
   "outputs": [],
   "source": [
    "#Getting the data\n",
    "data=pd.read_excel('diet.xls')"
   ]
  },
  {
   "cell_type": "markdown",
   "id": "parental-grass",
   "metadata": {},
   "source": [
    "# Data Cleaning\n",
    "Let's first clean the data to make it analysis ready"
   ]
  },
  {
   "cell_type": "code",
   "execution_count": 5,
   "id": "premier-presentation",
   "metadata": {},
   "outputs": [
    {
     "data": {
      "text/html": [
       "<div>\n",
       "<style scoped>\n",
       "    .dataframe tbody tr th:only-of-type {\n",
       "        vertical-align: middle;\n",
       "    }\n",
       "\n",
       "    .dataframe tbody tr th {\n",
       "        vertical-align: top;\n",
       "    }\n",
       "\n",
       "    .dataframe thead th {\n",
       "        text-align: right;\n",
       "    }\n",
       "</style>\n",
       "<table border=\"1\" class=\"dataframe\">\n",
       "  <thead>\n",
       "    <tr style=\"text-align: right;\">\n",
       "      <th></th>\n",
       "      <th>Foods</th>\n",
       "      <th>Price/ Serving</th>\n",
       "      <th>Serving Size</th>\n",
       "      <th>Calories</th>\n",
       "      <th>Cholesterol mg</th>\n",
       "      <th>Total_Fat g</th>\n",
       "      <th>Sodium mg</th>\n",
       "      <th>Carbohydrates g</th>\n",
       "      <th>Dietary_Fiber g</th>\n",
       "      <th>Protein g</th>\n",
       "      <th>Vit_A IU</th>\n",
       "      <th>Vit_C IU</th>\n",
       "      <th>Calcium mg</th>\n",
       "      <th>Iron mg</th>\n",
       "    </tr>\n",
       "  </thead>\n",
       "  <tbody>\n",
       "    <tr>\n",
       "      <th>0</th>\n",
       "      <td>Frozen Broccoli</td>\n",
       "      <td>0.16</td>\n",
       "      <td>10 Oz Pkg</td>\n",
       "      <td>73.8</td>\n",
       "      <td>0.0</td>\n",
       "      <td>0.8</td>\n",
       "      <td>68.2</td>\n",
       "      <td>13.6</td>\n",
       "      <td>8.5</td>\n",
       "      <td>8.0</td>\n",
       "      <td>5867.4</td>\n",
       "      <td>160.2</td>\n",
       "      <td>159.0</td>\n",
       "      <td>2.3</td>\n",
       "    </tr>\n",
       "    <tr>\n",
       "      <th>1</th>\n",
       "      <td>Carrots,Raw</td>\n",
       "      <td>0.07</td>\n",
       "      <td>1/2 Cup Shredded</td>\n",
       "      <td>23.7</td>\n",
       "      <td>0.0</td>\n",
       "      <td>0.1</td>\n",
       "      <td>19.2</td>\n",
       "      <td>5.6</td>\n",
       "      <td>1.6</td>\n",
       "      <td>0.6</td>\n",
       "      <td>15471.0</td>\n",
       "      <td>5.1</td>\n",
       "      <td>14.9</td>\n",
       "      <td>0.3</td>\n",
       "    </tr>\n",
       "    <tr>\n",
       "      <th>2</th>\n",
       "      <td>Celery, Raw</td>\n",
       "      <td>0.04</td>\n",
       "      <td>1 Stalk</td>\n",
       "      <td>6.4</td>\n",
       "      <td>0.0</td>\n",
       "      <td>0.1</td>\n",
       "      <td>34.8</td>\n",
       "      <td>1.5</td>\n",
       "      <td>0.7</td>\n",
       "      <td>0.3</td>\n",
       "      <td>53.6</td>\n",
       "      <td>2.8</td>\n",
       "      <td>16.0</td>\n",
       "      <td>0.2</td>\n",
       "    </tr>\n",
       "    <tr>\n",
       "      <th>3</th>\n",
       "      <td>Frozen Corn</td>\n",
       "      <td>0.18</td>\n",
       "      <td>1/2 Cup</td>\n",
       "      <td>72.2</td>\n",
       "      <td>0.0</td>\n",
       "      <td>0.6</td>\n",
       "      <td>2.5</td>\n",
       "      <td>17.1</td>\n",
       "      <td>2.0</td>\n",
       "      <td>2.5</td>\n",
       "      <td>106.6</td>\n",
       "      <td>5.2</td>\n",
       "      <td>3.3</td>\n",
       "      <td>0.3</td>\n",
       "    </tr>\n",
       "    <tr>\n",
       "      <th>4</th>\n",
       "      <td>Lettuce,Iceberg,Raw</td>\n",
       "      <td>0.02</td>\n",
       "      <td>1 Leaf</td>\n",
       "      <td>2.6</td>\n",
       "      <td>0.0</td>\n",
       "      <td>0.0</td>\n",
       "      <td>1.8</td>\n",
       "      <td>0.4</td>\n",
       "      <td>0.3</td>\n",
       "      <td>0.2</td>\n",
       "      <td>66.0</td>\n",
       "      <td>0.8</td>\n",
       "      <td>3.8</td>\n",
       "      <td>0.1</td>\n",
       "    </tr>\n",
       "  </tbody>\n",
       "</table>\n",
       "</div>"
      ],
      "text/plain": [
       "                 Foods  Price/ Serving      Serving Size  Calories  \\\n",
       "0      Frozen Broccoli            0.16         10 Oz Pkg      73.8   \n",
       "1          Carrots,Raw            0.07  1/2 Cup Shredded      23.7   \n",
       "2          Celery, Raw            0.04           1 Stalk       6.4   \n",
       "3          Frozen Corn            0.18           1/2 Cup      72.2   \n",
       "4  Lettuce,Iceberg,Raw            0.02            1 Leaf       2.6   \n",
       "\n",
       "   Cholesterol mg  Total_Fat g  Sodium mg  Carbohydrates g  Dietary_Fiber g  \\\n",
       "0             0.0          0.8       68.2             13.6              8.5   \n",
       "1             0.0          0.1       19.2              5.6              1.6   \n",
       "2             0.0          0.1       34.8              1.5              0.7   \n",
       "3             0.0          0.6        2.5             17.1              2.0   \n",
       "4             0.0          0.0        1.8              0.4              0.3   \n",
       "\n",
       "   Protein g  Vit_A IU  Vit_C IU  Calcium mg  Iron mg  \n",
       "0        8.0    5867.4     160.2       159.0      2.3  \n",
       "1        0.6   15471.0       5.1        14.9      0.3  \n",
       "2        0.3      53.6       2.8        16.0      0.2  \n",
       "3        2.5     106.6       5.2         3.3      0.3  \n",
       "4        0.2      66.0       0.8         3.8      0.1  "
      ]
     },
     "execution_count": 5,
     "metadata": {},
     "output_type": "execute_result"
    }
   ],
   "source": [
    "#Viewing the data\n",
    "data.head()"
   ]
  },
  {
   "cell_type": "code",
   "execution_count": 166,
   "id": "maritime-beijing",
   "metadata": {},
   "outputs": [
    {
     "data": {
      "text/plain": [
       "Foods              3\n",
       "Price/ Serving     3\n",
       "Serving Size       1\n",
       "Calories           1\n",
       "Cholesterol mg     1\n",
       "Total_Fat g        1\n",
       "Sodium mg          1\n",
       "Carbohydrates g    1\n",
       "Dietary_Fiber g    1\n",
       "Protein g          1\n",
       "Vit_A IU           1\n",
       "Vit_C IU           1\n",
       "Calcium mg         1\n",
       "Iron mg            1\n",
       "dtype: int64"
      ]
     },
     "execution_count": 166,
     "metadata": {},
     "output_type": "execute_result"
    }
   ],
   "source": [
    "data.isnull().sum()"
   ]
  },
  {
   "cell_type": "code",
   "execution_count": 167,
   "id": "medical-senegal",
   "metadata": {},
   "outputs": [
    {
     "name": "stdout",
     "output_type": "stream",
     "text": [
      "<class 'pandas.core.frame.DataFrame'>\n",
      "RangeIndex: 67 entries, 0 to 66\n",
      "Data columns (total 14 columns):\n",
      " #   Column           Non-Null Count  Dtype  \n",
      "---  ------           --------------  -----  \n",
      " 0   Foods            64 non-null     object \n",
      " 1   Price/ Serving   64 non-null     float64\n",
      " 2   Serving Size     66 non-null     object \n",
      " 3   Calories         66 non-null     float64\n",
      " 4   Cholesterol mg   66 non-null     float64\n",
      " 5   Total_Fat g      66 non-null     float64\n",
      " 6   Sodium mg        66 non-null     float64\n",
      " 7   Carbohydrates g  66 non-null     float64\n",
      " 8   Dietary_Fiber g  66 non-null     float64\n",
      " 9   Protein g        66 non-null     float64\n",
      " 10  Vit_A IU         66 non-null     float64\n",
      " 11  Vit_C IU         66 non-null     float64\n",
      " 12  Calcium mg       66 non-null     float64\n",
      " 13  Iron mg          66 non-null     float64\n",
      "dtypes: float64(12), object(2)\n",
      "memory usage: 7.5+ KB\n"
     ]
    }
   ],
   "source": [
    "data.info()"
   ]
  },
  {
   "cell_type": "code",
   "execution_count": 6,
   "id": "established-health",
   "metadata": {},
   "outputs": [],
   "source": [
    "#Separating the constraint table from the main data\n",
    "constraints_table=data.iloc[65:,2:].reset_index(drop=True)"
   ]
  },
  {
   "cell_type": "code",
   "execution_count": 8,
   "id": "assigned-language",
   "metadata": {},
   "outputs": [
    {
     "data": {
      "text/html": [
       "<div>\n",
       "<style scoped>\n",
       "    .dataframe tbody tr th:only-of-type {\n",
       "        vertical-align: middle;\n",
       "    }\n",
       "\n",
       "    .dataframe tbody tr th {\n",
       "        vertical-align: top;\n",
       "    }\n",
       "\n",
       "    .dataframe thead th {\n",
       "        text-align: right;\n",
       "    }\n",
       "</style>\n",
       "<table border=\"1\" class=\"dataframe\">\n",
       "  <thead>\n",
       "    <tr style=\"text-align: right;\">\n",
       "      <th></th>\n",
       "      <th>Serving Size</th>\n",
       "      <th>Calories</th>\n",
       "      <th>Cholesterol mg</th>\n",
       "      <th>Total_Fat g</th>\n",
       "      <th>Sodium mg</th>\n",
       "      <th>Carbohydrates g</th>\n",
       "      <th>Dietary_Fiber g</th>\n",
       "      <th>Protein g</th>\n",
       "      <th>Vit_A IU</th>\n",
       "      <th>Vit_C IU</th>\n",
       "      <th>Calcium mg</th>\n",
       "      <th>Iron mg</th>\n",
       "    </tr>\n",
       "  </thead>\n",
       "  <tbody>\n",
       "    <tr>\n",
       "      <th>0</th>\n",
       "      <td>Minimum daily intake</td>\n",
       "      <td>1500.0</td>\n",
       "      <td>30.0</td>\n",
       "      <td>20.0</td>\n",
       "      <td>800.0</td>\n",
       "      <td>130.0</td>\n",
       "      <td>125.0</td>\n",
       "      <td>60.0</td>\n",
       "      <td>1000.0</td>\n",
       "      <td>400.0</td>\n",
       "      <td>700.0</td>\n",
       "      <td>10.0</td>\n",
       "    </tr>\n",
       "    <tr>\n",
       "      <th>1</th>\n",
       "      <td>Maximum daily intake</td>\n",
       "      <td>2500.0</td>\n",
       "      <td>240.0</td>\n",
       "      <td>70.0</td>\n",
       "      <td>2000.0</td>\n",
       "      <td>450.0</td>\n",
       "      <td>250.0</td>\n",
       "      <td>100.0</td>\n",
       "      <td>10000.0</td>\n",
       "      <td>5000.0</td>\n",
       "      <td>1500.0</td>\n",
       "      <td>40.0</td>\n",
       "    </tr>\n",
       "  </tbody>\n",
       "</table>\n",
       "</div>"
      ],
      "text/plain": [
       "           Serving Size  Calories  Cholesterol mg  Total_Fat g  Sodium mg  \\\n",
       "0  Minimum daily intake    1500.0            30.0         20.0      800.0   \n",
       "1  Maximum daily intake    2500.0           240.0         70.0     2000.0   \n",
       "\n",
       "   Carbohydrates g  Dietary_Fiber g  Protein g  Vit_A IU  Vit_C IU  \\\n",
       "0            130.0            125.0       60.0    1000.0     400.0   \n",
       "1            450.0            250.0      100.0   10000.0    5000.0   \n",
       "\n",
       "   Calcium mg  Iron mg  \n",
       "0       700.0     10.0  \n",
       "1      1500.0     40.0  "
      ]
     },
     "execution_count": 8,
     "metadata": {},
     "output_type": "execute_result"
    }
   ],
   "source": [
    "#Viewing constraints\n",
    "constraints_table"
   ]
  },
  {
   "cell_type": "code",
   "execution_count": 9,
   "id": "nasty-devices",
   "metadata": {},
   "outputs": [],
   "source": [
    "#Data used for optimization\n",
    "data=data.iloc[0:64,:]"
   ]
  },
  {
   "cell_type": "code",
   "execution_count": 10,
   "id": "obvious-dollar",
   "metadata": {},
   "outputs": [
    {
     "data": {
      "text/html": [
       "<div>\n",
       "<style scoped>\n",
       "    .dataframe tbody tr th:only-of-type {\n",
       "        vertical-align: middle;\n",
       "    }\n",
       "\n",
       "    .dataframe tbody tr th {\n",
       "        vertical-align: top;\n",
       "    }\n",
       "\n",
       "    .dataframe thead th {\n",
       "        text-align: right;\n",
       "    }\n",
       "</style>\n",
       "<table border=\"1\" class=\"dataframe\">\n",
       "  <thead>\n",
       "    <tr style=\"text-align: right;\">\n",
       "      <th></th>\n",
       "      <th>Foods</th>\n",
       "      <th>Price/ Serving</th>\n",
       "      <th>Serving Size</th>\n",
       "      <th>Calories</th>\n",
       "      <th>Cholesterol mg</th>\n",
       "      <th>Total_Fat g</th>\n",
       "      <th>Sodium mg</th>\n",
       "      <th>Carbohydrates g</th>\n",
       "      <th>Dietary_Fiber g</th>\n",
       "      <th>Protein g</th>\n",
       "      <th>Vit_A IU</th>\n",
       "      <th>Vit_C IU</th>\n",
       "      <th>Calcium mg</th>\n",
       "      <th>Iron mg</th>\n",
       "    </tr>\n",
       "  </thead>\n",
       "  <tbody>\n",
       "    <tr>\n",
       "      <th>0</th>\n",
       "      <td>Frozen Broccoli</td>\n",
       "      <td>0.16</td>\n",
       "      <td>10 Oz Pkg</td>\n",
       "      <td>73.8</td>\n",
       "      <td>0.0</td>\n",
       "      <td>0.8</td>\n",
       "      <td>68.2</td>\n",
       "      <td>13.6</td>\n",
       "      <td>8.5</td>\n",
       "      <td>8.0</td>\n",
       "      <td>5867.4</td>\n",
       "      <td>160.2</td>\n",
       "      <td>159.0</td>\n",
       "      <td>2.3</td>\n",
       "    </tr>\n",
       "    <tr>\n",
       "      <th>1</th>\n",
       "      <td>Carrots,Raw</td>\n",
       "      <td>0.07</td>\n",
       "      <td>1/2 Cup Shredded</td>\n",
       "      <td>23.7</td>\n",
       "      <td>0.0</td>\n",
       "      <td>0.1</td>\n",
       "      <td>19.2</td>\n",
       "      <td>5.6</td>\n",
       "      <td>1.6</td>\n",
       "      <td>0.6</td>\n",
       "      <td>15471.0</td>\n",
       "      <td>5.1</td>\n",
       "      <td>14.9</td>\n",
       "      <td>0.3</td>\n",
       "    </tr>\n",
       "    <tr>\n",
       "      <th>2</th>\n",
       "      <td>Celery, Raw</td>\n",
       "      <td>0.04</td>\n",
       "      <td>1 Stalk</td>\n",
       "      <td>6.4</td>\n",
       "      <td>0.0</td>\n",
       "      <td>0.1</td>\n",
       "      <td>34.8</td>\n",
       "      <td>1.5</td>\n",
       "      <td>0.7</td>\n",
       "      <td>0.3</td>\n",
       "      <td>53.6</td>\n",
       "      <td>2.8</td>\n",
       "      <td>16.0</td>\n",
       "      <td>0.2</td>\n",
       "    </tr>\n",
       "    <tr>\n",
       "      <th>3</th>\n",
       "      <td>Frozen Corn</td>\n",
       "      <td>0.18</td>\n",
       "      <td>1/2 Cup</td>\n",
       "      <td>72.2</td>\n",
       "      <td>0.0</td>\n",
       "      <td>0.6</td>\n",
       "      <td>2.5</td>\n",
       "      <td>17.1</td>\n",
       "      <td>2.0</td>\n",
       "      <td>2.5</td>\n",
       "      <td>106.6</td>\n",
       "      <td>5.2</td>\n",
       "      <td>3.3</td>\n",
       "      <td>0.3</td>\n",
       "    </tr>\n",
       "    <tr>\n",
       "      <th>4</th>\n",
       "      <td>Lettuce,Iceberg,Raw</td>\n",
       "      <td>0.02</td>\n",
       "      <td>1 Leaf</td>\n",
       "      <td>2.6</td>\n",
       "      <td>0.0</td>\n",
       "      <td>0.0</td>\n",
       "      <td>1.8</td>\n",
       "      <td>0.4</td>\n",
       "      <td>0.3</td>\n",
       "      <td>0.2</td>\n",
       "      <td>66.0</td>\n",
       "      <td>0.8</td>\n",
       "      <td>3.8</td>\n",
       "      <td>0.1</td>\n",
       "    </tr>\n",
       "  </tbody>\n",
       "</table>\n",
       "</div>"
      ],
      "text/plain": [
       "                 Foods  Price/ Serving      Serving Size  Calories  \\\n",
       "0      Frozen Broccoli            0.16         10 Oz Pkg      73.8   \n",
       "1          Carrots,Raw            0.07  1/2 Cup Shredded      23.7   \n",
       "2          Celery, Raw            0.04           1 Stalk       6.4   \n",
       "3          Frozen Corn            0.18           1/2 Cup      72.2   \n",
       "4  Lettuce,Iceberg,Raw            0.02            1 Leaf       2.6   \n",
       "\n",
       "   Cholesterol mg  Total_Fat g  Sodium mg  Carbohydrates g  Dietary_Fiber g  \\\n",
       "0             0.0          0.8       68.2             13.6              8.5   \n",
       "1             0.0          0.1       19.2              5.6              1.6   \n",
       "2             0.0          0.1       34.8              1.5              0.7   \n",
       "3             0.0          0.6        2.5             17.1              2.0   \n",
       "4             0.0          0.0        1.8              0.4              0.3   \n",
       "\n",
       "   Protein g  Vit_A IU  Vit_C IU  Calcium mg  Iron mg  \n",
       "0        8.0    5867.4     160.2       159.0      2.3  \n",
       "1        0.6   15471.0       5.1        14.9      0.3  \n",
       "2        0.3      53.6       2.8        16.0      0.2  \n",
       "3        2.5     106.6       5.2         3.3      0.3  \n",
       "4        0.2      66.0       0.8         3.8      0.1  "
      ]
     },
     "execution_count": 10,
     "metadata": {},
     "output_type": "execute_result"
    }
   ],
   "source": [
    "#Now the data table contains only the variables without the constraints\n",
    "data.head()"
   ]
  },
  {
   "cell_type": "code",
   "execution_count": 172,
   "id": "verified-brazil",
   "metadata": {},
   "outputs": [
    {
     "name": "stdout",
     "output_type": "stream",
     "text": [
      "<class 'pandas.core.frame.DataFrame'>\n",
      "RangeIndex: 64 entries, 0 to 63\n",
      "Data columns (total 14 columns):\n",
      " #   Column           Non-Null Count  Dtype  \n",
      "---  ------           --------------  -----  \n",
      " 0   Foods            64 non-null     object \n",
      " 1   Price/ Serving   64 non-null     float64\n",
      " 2   Serving Size     64 non-null     object \n",
      " 3   Calories         64 non-null     float64\n",
      " 4   Cholesterol mg   64 non-null     float64\n",
      " 5   Total_Fat g      64 non-null     float64\n",
      " 6   Sodium mg        64 non-null     float64\n",
      " 7   Carbohydrates g  64 non-null     float64\n",
      " 8   Dietary_Fiber g  64 non-null     float64\n",
      " 9   Protein g        64 non-null     float64\n",
      " 10  Vit_A IU         64 non-null     float64\n",
      " 11  Vit_C IU         64 non-null     float64\n",
      " 12  Calcium mg       64 non-null     float64\n",
      " 13  Iron mg          64 non-null     float64\n",
      "dtypes: float64(12), object(2)\n",
      "memory usage: 7.1+ KB\n"
     ]
    }
   ],
   "source": [
    "data.info()"
   ]
  },
  {
   "cell_type": "markdown",
   "id": "offensive-mission",
   "metadata": {},
   "source": [
    "# Solution"
   ]
  },
  {
   "cell_type": "code",
   "execution_count": 180,
   "id": "sharing-prevention",
   "metadata": {},
   "outputs": [],
   "source": [
    "# Creating the problem variable to contain the problem data. We will use the minimize function for the problem\n",
    "var=LpProblem('Diet_Problem', LpMinimize)"
   ]
  },
  {
   "cell_type": "code",
   "execution_count": 181,
   "id": "sacred-husband",
   "metadata": {},
   "outputs": [],
   "source": [
    "# Creating dictionaries for all the varibles\n",
    "\n",
    "cost=dict(zip(data['Foods'],data['Price/ Serving']))\n",
    "Calories=dict(zip(data['Foods'],data['Calories']))\n",
    "Cholesterol=dict(zip(data['Foods'],data['Cholesterol mg']))\n",
    "Total_Fat=dict(zip(data['Foods'],data['Total_Fat g']))\n",
    "Sodium=dict(zip(data['Foods'],data['Sodium mg']))\n",
    "Carbohydrates=dict(zip(data['Foods'],data['Carbohydrates g']))\n",
    "Dietary_Fiber=dict(zip(data['Foods'],data['Dietary_Fiber g']))\n",
    "Protein=dict(zip(data['Foods'],data['Protein g']))\n",
    "Vit_A =dict(zip(data['Foods'],data['Vit_A IU']))\n",
    "Vit_C =dict(zip(data['Foods'],data['Vit_C IU']))\n",
    "Calcium=dict(zip(data['Foods'],data['Calcium mg']))\n",
    "Iron=dict(zip(data['Foods'],data['Iron mg']))"
   ]
  },
  {
   "cell_type": "code",
   "execution_count": 182,
   "id": "ideal-marriage",
   "metadata": {},
   "outputs": [],
   "source": [
    "# A dictionary called 'food_vars' is created to contain the referenced Variables\n",
    "variable = LpVariable.dicts(\"Food\",data['Foods'],0,cat='Continuous')"
   ]
  },
  {
   "cell_type": "code",
   "execution_count": 183,
   "id": "attended-great",
   "metadata": {},
   "outputs": [],
   "source": [
    "#Creating objective functions\n",
    "var+=lpSum([cost[i]*variable[i] for i in data['Foods']])"
   ]
  },
  {
   "cell_type": "code",
   "execution_count": 185,
   "id": "voluntary-median",
   "metadata": {},
   "outputs": [],
   "source": [
    "#Adding Calories constraints\n",
    "var+=lpSum([Calories[j]*variable[j] for j in data['Foods']])>=constraints_table.iloc[0,1]\n",
    "var+=lpSum([Calories[j]*variable[j] for j in data['Foods']])<=constraints_table.iloc[1,1]\n",
    "\n",
    "#Adding Cholesterol constraints\n",
    "var+=lpSum([Cholesterol[j]*variable[j] for j in data['Foods']])>=constraints_table.iloc[0,2]\n",
    "var+=lpSum([Cholesterol[j]*variable[j] for j in data['Foods']])<=constraints_table.iloc[1,2]\n",
    "\n",
    "#Adding Total_Fat constraints\n",
    "var+=lpSum([Total_Fat[j]*variable[j] for j in data['Foods']])>=constraints_table.iloc[0,3]\n",
    "var+=lpSum([Total_Fat[j]*variable[j] for j in data['Foods']])<=constraints_table.iloc[1,3]\n",
    "\n",
    "#Adding Sodium constraints\n",
    "var+=lpSum([Sodium[j]*variable[j] for j in data['Foods']])>=constraints_table.iloc[0,4]\n",
    "var+=lpSum([Sodium[j]*variable[j] for j in data['Foods']])<=constraints_table.iloc[1,4]\n",
    "\n",
    "#Adding Carbohydrates constraints\n",
    "var+=lpSum([Carbohydrates[j]*variable[j] for j in data['Foods']])>=constraints_table.iloc[0,5]\n",
    "var+=lpSum([Carbohydrates[j]*variable[j] for j in data['Foods']])<=constraints_table.iloc[1,5]\n",
    "\n",
    "#Adding Dietary_Fiber constraints\n",
    "var+=lpSum([Dietary_Fiber[j]*variable[j] for j in data['Foods']])>=constraints_table.iloc[0,6]\n",
    "var+=lpSum([Dietary_Fiber[j]*variable[j] for j in data['Foods']])<=constraints_table.iloc[1,6]\n",
    "\n",
    "#Adding Protein constraints\n",
    "var+=lpSum([Protein[j]*variable[j] for j in data['Foods']])>=constraints_table.iloc[0,7]\n",
    "var+=lpSum([Protein[j]*variable[j] for j in data['Foods']])<=constraints_table.iloc[1,7]\n",
    "\n",
    "#Adding Vit_A constraints\n",
    "var+=lpSum([Vit_A[j]*variable[j] for j in data['Foods']])>=constraints_table.iloc[0,8]\n",
    "var+=lpSum([Vit_A[j]*variable[j] for j in data['Foods']])<=constraints_table.iloc[1,8]\n",
    "\n",
    "#Adding Vit_A constraints\n",
    "var+=lpSum([Vit_C[j]*variable[j] for j in data['Foods']])>=constraints_table.iloc[0,9]\n",
    "var+=lpSum([Vit_C[j]*variable[j] for j in data['Foods']])<=constraints_table.iloc[1,9]\n",
    "\n",
    "#Adding Calcium constraints\n",
    "var+=lpSum([Calcium[j]*variable[j] for j in data['Foods']])>=constraints_table.iloc[0,10]\n",
    "var+=lpSum([Calcium[j]*variable[j] for j in data['Foods']])<=constraints_table.iloc[1,10]\n",
    "\n",
    "#Adding Iron constraints\n",
    "var+=lpSum([Iron[j]*variable[j] for j in data['Foods']])>=constraints_table.iloc[0,11]\n",
    "var+=lpSum([Iron[j]*variable[j] for j in data['Foods']])<=constraints_table.iloc[1,11]"
   ]
  },
  {
   "cell_type": "code",
   "execution_count": 186,
   "id": "extensive-switch",
   "metadata": {},
   "outputs": [
    {
     "data": {
      "text/plain": [
       "[Food_2%_Lowfat_Milk,\n",
       " Food_3.3%_Fat,Whole_Milk,\n",
       " Food_Apple,Raw,W_Skin,\n",
       " Food_Apple_Pie,\n",
       " Food_Bagels,\n",
       " Food_Banana,\n",
       " Food_Beanbacn_Soup,W_Watr,\n",
       " Food_Bologna,Turkey,\n",
       " Food_Butter,Regular,\n",
       " Food_Cap'N_Crunch,\n",
       " Food_Carrots,Raw,\n",
       " Food_Celery,_Raw,\n",
       " Food_Cheddar_Cheese,\n",
       " Food_Cheerios,\n",
       " Food_Chicknoodl_Soup,\n",
       " Food_Chocolate_Chip_Cookies,\n",
       " Food_Corn_Flks,_Kellogg'S,\n",
       " Food_Couscous,\n",
       " Food_Crm_Mshrm_Soup,W_Mlk,\n",
       " Food_Frankfurter,_Beef,\n",
       " Food_Frozen_Broccoli,\n",
       " Food_Frozen_Corn,\n",
       " Food_Grapes,\n",
       " Food_Ham,Sliced,Extralean,\n",
       " Food_Hamburger_W_Toppings,\n",
       " Food_Hotdog,_Plain,\n",
       " Food_Kielbasa,Prk,\n",
       " Food_Kiwifruit,Raw,Fresh,\n",
       " Food_Lettuce,Iceberg,Raw,\n",
       " Food_Macaroni,Ckd,\n",
       " Food_Malt_O_Meal,Choc,\n",
       " Food_New_E_Clamchwd,W_Mlk,\n",
       " Food_Neweng_Clamchwd,\n",
       " Food_Oatmeal,\n",
       " Food_Oatmeal_Cookies,\n",
       " Food_Oranges,\n",
       " Food_Peanut_Butter,\n",
       " Food_Peppers,_Sweet,_Raw,\n",
       " Food_Pizza_W_Pepperoni,\n",
       " Food_Poached_Eggs,\n",
       " Food_Popcorn,Air_Popped,\n",
       " Food_Pork,\n",
       " Food_Potato_Chips,Bbqflvr,\n",
       " Food_Potatoes,_Baked,\n",
       " Food_Pretzels,\n",
       " Food_Raisin_Brn,_Kellg'S,\n",
       " Food_Rice_Krispies,\n",
       " Food_Roasted_Chicken,\n",
       " Food_Sardines_in_Oil,\n",
       " Food_Scrambled_Eggs,\n",
       " Food_Skim_Milk,\n",
       " Food_Spaghetti_W__Sauce,\n",
       " Food_Special_K,\n",
       " Food_Splt_Pea&Hamsoup,\n",
       " Food_Taco,\n",
       " Food_Tofu,\n",
       " Food_Tomato,Red,Ripe,Raw,\n",
       " Food_Tomato_Soup,\n",
       " Food_Tortilla_Chip,\n",
       " Food_Vegetbeef_Soup,\n",
       " Food_Wheat_Bread,\n",
       " Food_White_Bread,\n",
       " Food_White_Rice,\n",
       " Food_White_Tuna_in_Water]"
      ]
     },
     "execution_count": 186,
     "metadata": {},
     "output_type": "execute_result"
    }
   ],
   "source": [
    "# The problem data is written to an .lp file\n",
    "var.writeLP(\"DietProblem.lp\")"
   ]
  },
  {
   "cell_type": "code",
   "execution_count": 187,
   "id": "aggregate-train",
   "metadata": {},
   "outputs": [
    {
     "data": {
      "text/plain": [
       "1"
      ]
     },
     "execution_count": 187,
     "metadata": {},
     "output_type": "execute_result"
    }
   ],
   "source": [
    "# The problem is solved using PuLP's choice of Solver\n",
    "var.solve()"
   ]
  },
  {
   "cell_type": "code",
   "execution_count": 188,
   "id": "funky-franklin",
   "metadata": {},
   "outputs": [
    {
     "name": "stdout",
     "output_type": "stream",
     "text": [
      "Status: Optimal\n"
     ]
    }
   ],
   "source": [
    "# The status of the solution is printed to the screen\n",
    "print(\"Status:\", LpStatus[var.status])"
   ]
  },
  {
   "cell_type": "code",
   "execution_count": 189,
   "id": "entitled-attempt",
   "metadata": {},
   "outputs": [
    {
     "name": "stdout",
     "output_type": "stream",
     "text": [
      "Food_Celery,_Raw = 52.64371\n",
      "Food_Frozen_Broccoli = 0.25960653\n",
      "Food_Lettuce,Iceberg,Raw = 63.988506\n",
      "Food_Oranges = 2.2929389\n",
      "Food_Poached_Eggs = 0.14184397\n",
      "Food_Popcorn,Air_Popped = 13.869322\n"
     ]
    }
   ],
   "source": [
    "# Each of the variables is printed with it's resolved optimum value\n",
    "for v in var.variables():\n",
    "    if v.varValue>0:\n",
    "        print(v.name, \"=\", v.varValue)"
   ]
  },
  {
   "cell_type": "code",
   "execution_count": 190,
   "id": "dental-administration",
   "metadata": {},
   "outputs": [
    {
     "name": "stdout",
     "output_type": "stream",
     "text": [
      "Total Cost of Balanced diet =$4.34\n"
     ]
    }
   ],
   "source": [
    "# The optimised objective function value is printed to the screen\n",
    "print(\"Total Cost of Balanced diet =${}\".format(round(value(var.objective),2)))"
   ]
  }
 ],
 "metadata": {
  "kernelspec": {
   "display_name": "Python 3",
   "language": "python",
   "name": "python3"
  },
  "language_info": {
   "codemirror_mode": {
    "name": "ipython",
    "version": 3
   },
   "file_extension": ".py",
   "mimetype": "text/x-python",
   "name": "python",
   "nbconvert_exporter": "python",
   "pygments_lexer": "ipython3",
   "version": "3.7.9"
  }
 },
 "nbformat": 4,
 "nbformat_minor": 5
}
